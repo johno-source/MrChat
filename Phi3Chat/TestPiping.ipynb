{
 "cells": [
  {
   "cell_type": "markdown",
   "metadata": {},
   "source": [
    "The purpose of this little notebook is to test my ideas on piping as implemented by langchain."
   ]
  },
  {
   "cell_type": "code",
   "execution_count": 6,
   "metadata": {},
   "outputs": [
    {
     "name": "stdout",
     "output_type": "stream",
     "text": [
      "test | a | b | pipe | end\n",
      "CompoundPipeable(CompoundPipeable(CompoundPipeable(Pipeable(a), Pipeable(b)), Pipeable(pipe)), Pipeable(end))\n"
     ]
    }
   ],
   "source": [
    "class CompoundPipeable:\n",
    "    def __init__(self, first, second):\n",
    "        self.first = first\n",
    "        self.second = second\n",
    "        \n",
    "    def __or__(self, other):\n",
    "        return CompoundPipeable(self, other)\n",
    "    \n",
    "    def invoke(self, value):\n",
    "        return self.second.invoke(self.first.invoke(value))\n",
    "    \n",
    "    def __str__(self):\n",
    "        return f'CompoundPipeable({self.first}, {self.second})'\n",
    "    \n",
    "class Pipeable:\n",
    "    def __init__(self, value):\n",
    "        self.value = value\n",
    "    \n",
    "    def __or__(self, other):\n",
    "        return CompoundPipeable(self, other)\n",
    "\n",
    "    def invoke(self, value):\n",
    "        return f'{value} | {self.value}'\n",
    "    \n",
    "    def __str__(self) -> str:\n",
    "        return f'Pipeable({self.value})'\n",
    "    \n",
    "testpipe = Pipeable('a') | Pipeable('b') | Pipeable('pipe') | Pipeable('end')\n",
    "\n",
    "print(testpipe.invoke('test'))\n",
    "print(testpipe)"
   ]
  },
  {
   "cell_type": "markdown",
   "metadata": {},
   "source": [
    "That worked well. Lets extend the example by making it interruptable."
   ]
  },
  {
   "cell_type": "code",
   "execution_count": 14,
   "metadata": {},
   "outputs": [
    {
     "data": {
      "text/plain": [
       "'Execution interrupted at pipe'"
      ]
     },
     "execution_count": 14,
     "metadata": {},
     "output_type": "execute_result"
    }
   ],
   "source": [
    "class PipeException(Exception):\n",
    "    def __init__(self, message):\n",
    "        super().__init__(message)\n",
    "\n",
    "class CompoundPipeable:\n",
    "    def __init__(self, first, second):\n",
    "        self.first = first\n",
    "        self.second = second\n",
    "        \n",
    "    def __or__(self, other):\n",
    "        if not isinstance(other, (Pipeable, CompoundPipeable)):\n",
    "            raise TypeError('Operands must be of type Pipeable or CompoundPipeable')\n",
    "        return CompoundPipeable(self, other)\n",
    "    \n",
    "    def invoke(self, value):\n",
    "        try:\n",
    "            first_result = self.first.invoke(value)\n",
    "        except PipeException as e:\n",
    "            return f'{e}'\n",
    "        \n",
    "        return self.second.invoke(first_result)\n",
    "    \n",
    "class Pipeable:\n",
    "    def __init__(self, value, stop_on = None):\n",
    "        self.value = value\n",
    "        self.stop_on = stop_on\n",
    "    \n",
    "    def __or__(self, other):\n",
    "        return CompoundPipeable(self, other)\n",
    "\n",
    "    def invoke(self, value):\n",
    "        if self.stop_on and self.value == self.stop_on:\n",
    "            raise PipeException(f'Execution interrupted at {self.value}')\n",
    "        return f'{value} | {self.value}'\n",
    "    \n",
    "testpipe = Pipeable('a') | Pipeable('b') | Pipeable('pipe', stop_on = 'pipe') | Pipeable('end')\n",
    "\n",
    "testpipe.invoke('test')"
   ]
  },
  {
   "cell_type": "markdown",
   "metadata": {},
   "source": [
    "OK. That is all very good. Lets see if we can now extend this to langchain chains."
   ]
  },
  {
   "cell_type": "code",
   "execution_count": 22,
   "metadata": {},
   "outputs": [],
   "source": [
    "from langchain_core.prompts import ChatPromptTemplate\n",
    "from langchain_core.runnables import Runnable\n",
    "from langchain_core.runnables.utils import Input, Output\n",
    "from langchain_core.prompt_values import ChatPromptValue\n",
    "from langchain_core.messages import SystemMessage, AIMessage, HumanMessage\n",
    "\n",
    "class CompoundRunnable(Runnable[Input, Output]):\n",
    "    def __init__(self, first, second):\n",
    "        self.first = first\n",
    "        self.second = second\n",
    "        \n",
    "    def __or__(self, other):\n",
    "        if not isinstance(other, Runnable):\n",
    "            raise TypeError('Operands must be of type Runnable')\n",
    "        return CompoundRunnable(self, other)\n",
    "    \n",
    "    def invoke(self, input: Input, config) -> Output:\n",
    "        try:\n",
    "            first_result = self.first.invoke(input, config)\n",
    "        except PipeException as e:\n",
    "            return f'{e}'\n",
    "        \n",
    "        return self.second.run(first_result, config)\n",
    "    \n",
    "class TestLengthRunnable(Runnable[Input, Output]):\n",
    "    def __init__(self, length):\n",
    "        self.length = length\n",
    "        \n",
    "    def __or__(self, other):\n",
    "        if not isinstance(other, Runnable):\n",
    "            raise TypeError('Operands must be of type Runnable')\n",
    "        return CompoundRunnable(self, other)\n",
    "\n",
    "    def _messages_to_string(self, _input):    \n",
    "        messages = ''\n",
    "        if isinstance(_input, ChatPromptValue):\n",
    "            for message in _input.messages:\n",
    "                if isinstance(message, HumanMessage):\n",
    "                    messages += f'Human: {message.content}\\n'\n",
    "                elif isinstance(message, AIMessage):\n",
    "                    messages += f'AI: {message.content}\\n'\n",
    "                elif isinstance(message, SystemMessage):\n",
    "                    messages += f'System: {message.content}\\n'\n",
    "                else:\n",
    "                    raise ValueError(f'Unexpected message type: {type(message)}')\n",
    "        return messages\n",
    "\n",
    "\n",
    "    def invoke(self, input: Input, config) -> Output:\n",
    "        msg = self._messages_to_string(input)\n",
    "        print(msg)\n",
    "        if len(msg) > self.length:\n",
    "            raise PipeException(f'Message too long: {len(msg)}')\n",
    "        return Output()\n"
   ]
  },
  {
   "cell_type": "code",
   "execution_count": 23,
   "metadata": {},
   "outputs": [
    {
     "name": "stdout",
     "output_type": "stream",
     "text": [
      "System: You are a very nice chatbot \n",
      "Human: I am a very rough human\n",
      "AI: Why are you so rough?\n",
      "\n"
     ]
    },
    {
     "ename": "PipeException",
     "evalue": "Message too long: 94",
     "output_type": "error",
     "traceback": [
      "\u001b[0;31m---------------------------------------------------------------------------\u001b[0m",
      "\u001b[0;31mPipeException\u001b[0m                             Traceback (most recent call last)",
      "Cell \u001b[0;32mIn[23], line 9\u001b[0m\n\u001b[1;32m      1\u001b[0m chat_prompt \u001b[38;5;241m=\u001b[39m ChatPromptTemplate\u001b[38;5;241m.\u001b[39mfrom_messages([ \n\u001b[1;32m      2\u001b[0m     (\u001b[38;5;124m'\u001b[39m\u001b[38;5;124msystem\u001b[39m\u001b[38;5;124m'\u001b[39m, \u001b[38;5;124m'\u001b[39m\u001b[38;5;124mYou are a very nice chatbot \u001b[39m\u001b[38;5;124m'\u001b[39m ),\n\u001b[1;32m      3\u001b[0m     (\u001b[38;5;124m'\u001b[39m\u001b[38;5;124mhuman\u001b[39m\u001b[38;5;124m'\u001b[39m, \u001b[38;5;124m'\u001b[39m\u001b[38;5;124mI am a very rough human\u001b[39m\u001b[38;5;124m'\u001b[39m ),\n\u001b[1;32m      4\u001b[0m     (\u001b[38;5;124m'\u001b[39m\u001b[38;5;124mai\u001b[39m\u001b[38;5;124m'\u001b[39m, \u001b[38;5;124m'\u001b[39m\u001b[38;5;124mWhy are you so rough?\u001b[39m\u001b[38;5;124m'\u001b[39m)\n\u001b[1;32m      5\u001b[0m     ])\n\u001b[1;32m      7\u001b[0m chain \u001b[38;5;241m=\u001b[39m chat_prompt \u001b[38;5;241m|\u001b[39m TestLengthRunnable(\u001b[38;5;241m10\u001b[39m) \u001b[38;5;241m|\u001b[39m TestLengthRunnable(\u001b[38;5;241m20\u001b[39m)\n\u001b[0;32m----> 9\u001b[0m \u001b[43mchain\u001b[49m\u001b[38;5;241;43m.\u001b[39;49m\u001b[43minvoke\u001b[49m\u001b[43m(\u001b[49m\u001b[43m{\u001b[49m\u001b[43m}\u001b[49m\u001b[43m)\u001b[49m\n",
      "File \u001b[0;32m/opt/conda/envs/langraph/lib/python3.12/site-packages/langchain_core/runnables/base.py:2368\u001b[0m, in \u001b[0;36mRunnableSequence.invoke\u001b[0;34m(self, input, config)\u001b[0m\n\u001b[1;32m   2366\u001b[0m \u001b[38;5;28;01mtry\u001b[39;00m:\n\u001b[1;32m   2367\u001b[0m     \u001b[38;5;28;01mfor\u001b[39;00m i, step \u001b[38;5;129;01min\u001b[39;00m \u001b[38;5;28menumerate\u001b[39m(\u001b[38;5;28mself\u001b[39m\u001b[38;5;241m.\u001b[39msteps):\n\u001b[0;32m-> 2368\u001b[0m         \u001b[38;5;28minput\u001b[39m \u001b[38;5;241m=\u001b[39m \u001b[43mstep\u001b[49m\u001b[38;5;241;43m.\u001b[39;49m\u001b[43minvoke\u001b[49m\u001b[43m(\u001b[49m\n\u001b[1;32m   2369\u001b[0m \u001b[43m            \u001b[49m\u001b[38;5;28;43minput\u001b[39;49m\u001b[43m,\u001b[49m\n\u001b[1;32m   2370\u001b[0m \u001b[43m            \u001b[49m\u001b[38;5;66;43;03m# mark each step as a child run\u001b[39;49;00m\n\u001b[1;32m   2371\u001b[0m \u001b[43m            \u001b[49m\u001b[43mpatch_config\u001b[49m\u001b[43m(\u001b[49m\n\u001b[1;32m   2372\u001b[0m \u001b[43m                \u001b[49m\u001b[43mconfig\u001b[49m\u001b[43m,\u001b[49m\u001b[43m \u001b[49m\u001b[43mcallbacks\u001b[49m\u001b[38;5;241;43m=\u001b[39;49m\u001b[43mrun_manager\u001b[49m\u001b[38;5;241;43m.\u001b[39;49m\u001b[43mget_child\u001b[49m\u001b[43m(\u001b[49m\u001b[38;5;124;43mf\u001b[39;49m\u001b[38;5;124;43m\"\u001b[39;49m\u001b[38;5;124;43mseq:step:\u001b[39;49m\u001b[38;5;132;43;01m{\u001b[39;49;00m\u001b[43mi\u001b[49m\u001b[38;5;241;43m+\u001b[39;49m\u001b[38;5;241;43m1\u001b[39;49m\u001b[38;5;132;43;01m}\u001b[39;49;00m\u001b[38;5;124;43m\"\u001b[39;49m\u001b[43m)\u001b[49m\n\u001b[1;32m   2373\u001b[0m \u001b[43m            \u001b[49m\u001b[43m)\u001b[49m\u001b[43m,\u001b[49m\n\u001b[1;32m   2374\u001b[0m \u001b[43m        \u001b[49m\u001b[43m)\u001b[49m\n\u001b[1;32m   2375\u001b[0m \u001b[38;5;66;03m# finish the root run\u001b[39;00m\n\u001b[1;32m   2376\u001b[0m \u001b[38;5;28;01mexcept\u001b[39;00m \u001b[38;5;167;01mBaseException\u001b[39;00m \u001b[38;5;28;01mas\u001b[39;00m e:\n",
      "Cell \u001b[0;32mIn[22], line 53\u001b[0m, in \u001b[0;36mTestLengthRunnable.invoke\u001b[0;34m(self, input, config)\u001b[0m\n\u001b[1;32m     51\u001b[0m \u001b[38;5;28mprint\u001b[39m(msg)\n\u001b[1;32m     52\u001b[0m \u001b[38;5;28;01mif\u001b[39;00m \u001b[38;5;28mlen\u001b[39m(msg) \u001b[38;5;241m>\u001b[39m \u001b[38;5;28mself\u001b[39m\u001b[38;5;241m.\u001b[39mlength:\n\u001b[0;32m---> 53\u001b[0m     \u001b[38;5;28;01mraise\u001b[39;00m PipeException(\u001b[38;5;124mf\u001b[39m\u001b[38;5;124m'\u001b[39m\u001b[38;5;124mMessage too long: \u001b[39m\u001b[38;5;132;01m{\u001b[39;00m\u001b[38;5;28mlen\u001b[39m(msg)\u001b[38;5;132;01m}\u001b[39;00m\u001b[38;5;124m'\u001b[39m)\n\u001b[1;32m     54\u001b[0m \u001b[38;5;28;01mreturn\u001b[39;00m Output()\n",
      "\u001b[0;31mPipeException\u001b[0m: Message too long: 94"
     ]
    }
   ],
   "source": [
    "chat_prompt = ChatPromptTemplate.from_messages([ \n",
    "    ('system', 'You are a very nice chatbot ' ),\n",
    "    ('human', 'I am a very rough human' ),\n",
    "    ('ai', 'Why are you so rough?')\n",
    "    ])\n",
    "\n",
    "chain = chat_prompt | TestLengthRunnable(10) | TestLengthRunnable(20)\n",
    "\n",
    "chain.invoke({})\n"
   ]
  },
  {
   "cell_type": "markdown",
   "metadata": {},
   "source": [
    "OK. So the problem is that the ChatPrompt returns a type of RunnableSequence - which does not catch our exception.\n",
    "\n",
    "Lets try and do it using the @chain decorator"
   ]
  },
  {
   "cell_type": "code",
   "execution_count": 25,
   "metadata": {},
   "outputs": [
    {
     "name": "stdout",
     "output_type": "stream",
     "text": [
      "Message too long: 94\n"
     ]
    }
   ],
   "source": [
    "from langchain_core.runnables import chain\n",
    "\n",
    "@chain\n",
    "def test_chain_length(_input):    \n",
    "    messages = ''\n",
    "    if isinstance(_input, ChatPromptValue):\n",
    "        for message in _input.messages:\n",
    "            if isinstance(message, HumanMessage):\n",
    "                messages += f'Human: {message.content}\\n'\n",
    "            elif isinstance(message, AIMessage):\n",
    "                messages += f'AI: {message.content}\\n'\n",
    "            elif isinstance(message, SystemMessage):\n",
    "                messages += f'System: {message.content}\\n'\n",
    "            else:\n",
    "                raise ValueError(f'Unexpected message type: {type(message)}')\n",
    "    if len(messages) > 20:\n",
    "        raise PipeException(f'Message too long: {len(messages)}')\n",
    "    return _input\n",
    "\n",
    "chain = chat_prompt | test_chain_length\n",
    "\n",
    "try:\n",
    "    chain.invoke({})\n",
    "except PipeException as e:\n",
    "    print(e)\n"
   ]
  },
  {
   "cell_type": "markdown",
   "metadata": {},
   "source": [
    "Now lets use RunnableLambdas"
   ]
  },
  {
   "cell_type": "code",
   "execution_count": 26,
   "metadata": {},
   "outputs": [
    {
     "name": "stdout",
     "output_type": "stream",
     "text": [
      "Message too long: 94\n"
     ]
    }
   ],
   "source": [
    "from langchain_core.runnables import RunnableLambda\n",
    "\n",
    "def test_chain_length_lambda(_input):    \n",
    "    messages = ''\n",
    "    if isinstance(_input, ChatPromptValue):\n",
    "        for message in _input.messages:\n",
    "            if isinstance(message, HumanMessage):\n",
    "                messages += f'Human: {message.content}\\n'\n",
    "            elif isinstance(message, AIMessage):\n",
    "                messages += f'AI: {message.content}\\n'\n",
    "            elif isinstance(message, SystemMessage):\n",
    "                messages += f'System: {message.content}\\n'\n",
    "            else:\n",
    "                raise ValueError(f'Unexpected message type: {type(message)}')\n",
    "    if len(messages) > 20:\n",
    "        raise PipeException(f'Message too long: {len(messages)}')\n",
    "    return _input\n",
    "\n",
    "chain = chat_prompt | RunnableLambda(test_chain_length_lambda)\n",
    "\n",
    "try:\n",
    "    chain.invoke({})\n",
    "except PipeException as e:\n",
    "    print(e)\n"
   ]
  },
  {
   "cell_type": "markdown",
   "metadata": {},
   "source": [
    "Great. Now lets check that the lambda could be a callable class."
   ]
  },
  {
   "cell_type": "code",
   "execution_count": 28,
   "metadata": {},
   "outputs": [
    {
     "name": "stdout",
     "output_type": "stream",
     "text": [
      "Message too long: 94\n"
     ]
    }
   ],
   "source": [
    "from typing import Any\n",
    "\n",
    "\n",
    "class TestLength:\n",
    "    def __init__(self, length):\n",
    "        self.length = length\n",
    "\n",
    "    def __call__(self, _input):\n",
    "        messages = ''\n",
    "        if isinstance(_input, ChatPromptValue):\n",
    "            for message in _input.messages:\n",
    "                if isinstance(message, HumanMessage):\n",
    "                    messages += f'Human: {message.content}\\n'\n",
    "                elif isinstance(message, AIMessage):\n",
    "                    messages += f'AI: {message.content}\\n'\n",
    "                elif isinstance(message, SystemMessage):\n",
    "                    messages += f'System: {message.content}\\n'\n",
    "                else:\n",
    "                    raise ValueError(f'Unexpected message type: {type(message)}')\n",
    "        if len(messages) > self.length:\n",
    "            raise PipeException(f'Message too long: {len(messages)}')\n",
    "        return _input\n",
    "        \n",
    "chain = chat_prompt | RunnableLambda(TestLength(10))\n",
    "\n",
    "try:\n",
    "    chain.invoke({})\n",
    "except PipeException as e:\n",
    "    print(e)\n"
   ]
  }
 ],
 "metadata": {
  "kernelspec": {
   "display_name": "langraph",
   "language": "python",
   "name": "python3"
  },
  "language_info": {
   "codemirror_mode": {
    "name": "ipython",
    "version": 3
   },
   "file_extension": ".py",
   "mimetype": "text/x-python",
   "name": "python",
   "nbconvert_exporter": "python",
   "pygments_lexer": "ipython3",
   "version": "3.12.3"
  }
 },
 "nbformat": 4,
 "nbformat_minor": 2
}
