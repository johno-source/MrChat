{
 "cells": [
  {
   "cell_type": "markdown",
   "metadata": {},
   "source": [
    "# Run models on Ollama\n",
    "The purpose of this notebook is to explore running models using my ollama server."
   ]
  },
  {
   "cell_type": "code",
   "execution_count": 1,
   "metadata": {},
   "outputs": [],
   "source": [
    "from langchain_community.llms import Ollama\n",
    "from langchain.callbacks.manager import CallbackManager\n",
    "from langchain.callbacks.streaming_stdout import StreamingStdOutCallbackHandler\n"
   ]
  },
  {
   "cell_type": "code",
   "execution_count": 2,
   "metadata": {},
   "outputs": [],
   "source": [
    "llm = Ollama(base_url=\"http://192.168.86.2:11434\", model=\"llama3\")\n"
   ]
  },
  {
   "cell_type": "code",
   "execution_count": 3,
   "metadata": {},
   "outputs": [
    {
     "name": "stdout",
     "output_type": "stream",
     "text": [
      "Here's one:\n",
      "\n",
      "Why don't eggs tell jokes?\n",
      "\n",
      "Because they'd crack each other up!\n",
      "\n",
      "Hope that made you smile!\n"
     ]
    }
   ],
   "source": [
    "print(llm.invoke(\"Tell me a joke.\"))"
   ]
  },
  {
   "cell_type": "markdown",
   "metadata": {},
   "source": [
    "Try the alternate libraries."
   ]
  },
  {
   "cell_type": "code",
   "execution_count": 4,
   "metadata": {},
   "outputs": [
    {
     "name": "stderr",
     "output_type": "stream",
     "text": [
      "/opt/conda/envs/phi3/lib/python3.12/site-packages/langchain_core/_api/deprecation.py:119: LangChainDeprecationWarning: The method `BaseLLM.__call__` was deprecated in langchain-core 0.1.7 and will be removed in 0.3.0. Use invoke instead.\n",
      "  warn_deprecated(\n"
     ]
    },
    {
     "name": "stdout",
     "output_type": "stream",
     "text": [
      "What a great question!\n",
      "\n",
      "The sky appears blue to our eyes because of a phenomenon called Rayleigh scattering, named after the British physicist Lord Rayleigh (1842-1919). Here's what happens:\n",
      "\n",
      "1. **Sunlight**: When sunlight enters Earth's atmosphere, it consists of all the colors of the visible spectrum, including red, orange, yellow, green, blue, indigo, and violet.\n",
      "2. **Molecules**: The atmosphere is made up of tiny molecules of gases like nitrogen (N2) and oxygen (O2), which are much smaller than the wavelength of light.\n",
      "3. **Scattering**: When sunlight hits these molecules, it scatters in all directions. This scattering occurs more frequently for shorter wavelengths of light, like blue and violet, than for longer wavelengths, like red and orange.\n",
      "\n",
      "As a result of this scattering, the shorter wavelengths of light (like blue and violet) are distributed throughout the sky, making it appear blue to our eyes. The other colors, like red and orange, are not scattered as much and continue to travel in more direct paths, reaching our eyes from the sun's position in the sky.\n",
      "\n",
      "There are a few additional factors that can affect the color of the sky:\n",
      "\n",
      "* **Atmospheric conditions**: Dust, pollution, and water vapor in the air can scatter light in different ways, changing the apparent color of the sky.\n",
      "* **Time of day**: The angle of the sun changes during the day, which can alter the perceived color of the sky. For example, a blue sky may appear more orange or red near sunrise and sunset when the sun is lower on the horizon.\n",
      "\n",
      "So, to summarize: the sky appears blue because of the scattering of sunlight by tiny molecules in the atmosphere, with shorter wavelengths like blue and violet being dispersed throughout the sky!\n"
     ]
    }
   ],
   "source": [
    "from langchain_community.llms import Ollama\n",
    "\n",
    "llm = Ollama(base_url=\"http://192.168.86.2:11434\", model=\"llama3\")\n",
    "print(llm(\"Why is the sky blue?\"))\n"
   ]
  },
  {
   "cell_type": "code",
   "execution_count": 5,
   "metadata": {},
   "outputs": [
    {
     "name": "stderr",
     "output_type": "stream",
     "text": [
      "/opt/conda/envs/phi3/lib/python3.12/site-packages/langchain_core/_api/deprecation.py:119: LangChainDeprecationWarning: The class `LLMChain` was deprecated in LangChain 0.1.17 and will be removed in 0.3.0. Use RunnableSequence, e.g., `prompt | llm` instead.\n",
      "  warn_deprecated(\n",
      "/opt/conda/envs/phi3/lib/python3.12/site-packages/langchain_core/_api/deprecation.py:119: LangChainDeprecationWarning: The method `Chain.run` was deprecated in langchain 0.1.0 and will be removed in 0.2.0. Use invoke instead.\n",
      "  warn_deprecated(\n"
     ]
    },
    {
     "name": "stdout",
     "output_type": "stream",
     "text": [
      "The fabric of reality itself! Here are five interesting facts about the space-time continuum:\n",
      "\n",
      "1. **Time is relative**: According to Einstein's theory of special relativity, time is not absolute. It depends on the observer's frame of reference and their speed relative to other objects in motion. This means that two observers moving at different speeds can experience time differently, with the faster-moving observer aging less than the slower-moving one.\n",
      "2. **The universe has four dimensions**: In addition to the three spatial dimensions (length, width, and height) we're familiar with, our universe also has a fourth dimension: time. This is often referred to as spacetime. The concept of spacetime was first proposed by Hermann Minkowski in 1907 and later developed by Einstein.\n",
      "3. **Wormholes are theoretical shortcuts**: Wormholes are hypothetical tunnels or tubes that could connect two distant points in space-time, allowing for faster-than-light travel. They would effectively create a shortcut through the fabric of spacetime, potentially revolutionizing our understanding of distance and travel. While wormholes remain purely theoretical, they continue to fascinate scientists and science fiction enthusiasts alike.\n",
      "4. **Black holes distort space-time**: The intense gravity of black holes warps the surrounding space-time, creating a phenomenon known as gravitational lensing. This bending of light can even create multiple images or magnify distant objects, making them appear brighter than they would otherwise be. Black holes are so massive and dense that not even light can escape their grasp once it gets too close.\n",
      "5. **The universe is expanding into a \"bubble\"**: The Big Bang theory suggests that our universe began as an infinitely hot and dense point around 13.8 billion years ago. Since then, the universe has been expanding at an accelerating rate, with galaxies moving away from each other. This expansion is thought to be driven by dark energy, a mysterious force that pushes matter apart. Some theories propose that our universe is contained within a larger \"multiverse,\" which could be thought of as a cosmic bubble.\n",
      "\n",
      "These facts offer just a glimpse into the fascinating realm of space-time and the mysteries it holds. As we continue to explore and understand the workings of the universe, we may uncover even more intriguing aspects of this intricate fabric.\n"
     ]
    }
   ],
   "source": [
    "from langchain.prompts import PromptTemplate\n",
    "from langchain.chains import LLMChain\n",
    "\n",
    "prompt = PromptTemplate(\n",
    "    input_variables=[\"topic\"], \n",
    "    template=\"Give me 5 interesting facts about {topic}.\"\n",
    ")\n",
    "chain = LLMChain(llm=llm, prompt=prompt)\n",
    "\n",
    "print(chain.run(\"The space time continuum\"))"
   ]
  },
  {
   "cell_type": "markdown",
   "metadata": {},
   "source": [
    "OK. Now moving on lets investigate using llama 3 to do function calls with langchain."
   ]
  },
  {
   "cell_type": "code",
   "execution_count": 4,
   "metadata": {},
   "outputs": [],
   "source": [
    "from langchain.chat_models import ChatOllama\n",
    "from langchain_core.output_parsers import StrOutputParser\n",
    "from langchain_core.prompts import ChatPromptTemplate\n",
    "\n",
    "llm = ChatOllama(base_url=\"http://192.168.86.2:11434\", model=\"llama3\", keep_alive=-1, temperature=0.0, max_new_tokens=512)\n"
   ]
  },
  {
   "cell_type": "code",
   "execution_count": 5,
   "metadata": {},
   "outputs": [
    {
     "name": "stdout",
     "output_type": "stream",
     "text": [
      "content=\"As an engineer, I have always been fascinated by the wonders of the universe and the incredible feats of engineering that allow us to explore and understand it. Astronomy is not just about gazing up at the stars; it's about applying scientific principles and technological innovations to unravel the mysteries of the cosmos.\\n\\nOne of the most impressive examples of astronomical engineering is the Hubble Space Telescope. Launched in 1990, this orbiting observatory has revolutionized our understanding of the universe by capturing stunning images and gathering valuable data on distant galaxies, stars, and planets. The Hubble's 2.4-meter primary mirror and advanced instruments allow it to peer into the farthest reaches of space, revealing hidden secrets about the formation and evolution of the cosmos.\\n\\nAnother remarkable example is the Atacama Large Millimeter/submillimeter Array (ALMA) in Chile. This radio telescope array consists of 66 antennas working together to form a single, powerful instrument capable of detecting faint signals from distant galaxies and star-forming regions. ALMA's incredible sensitivity allows it to study the formation of stars and planets, as well as the mysterious dark matter that makes up most of the universe.\\n\\nThe James Webb Space Telescope (JWST) is another exciting example of astronomical engineering. Scheduled for launch in 2023, JWST will be the successor to Hubble, with a primary mirror four times larger and advanced instruments capable of detecting faint infrared signals from distant galaxies and stars. This telescope will allow us to study the formation of the first stars and galaxies, as well as the atmospheres of exoplanets that might harbor life.\\n\\nAstronomical engineering also involves developing innovative technologies to overcome the challenges of space exploration. For instance, the European Space Agency's Gaia spacecraft is using advanced laser ranging technology to create a highly accurate 3D map of our galaxy, the Milky Way. This mission will help us better understand the structure and evolution of our galaxy, as well as the motion of stars and other celestial objects.\\n\\nAnother area where engineering meets astronomy is in the development of exoplanet-hunting missions like NASA's Transiting Exoplanet Survey Satellite (TESS) and the European Space Agency's PLATO mission. These spacecraft use advanced cameras and spectrographs to detect the tiny dimming effects caused by planets passing in front of their stars, allowing us to discover new worlds and study their properties.\\n\\nAs an engineer, I am constantly amazed by the incredible feats of engineering that enable us to explore and understand the universe. From the Hubble Space Telescope's stunning images to ALMA's groundbreaking radio astronomy, these missions demonstrate the power of human ingenuity and innovation in advancing our knowledge of the cosmos.\\n\\nIn conclusion, astronomical engineering is a fascinating field that combines cutting-edge technology with scientific curiosity to unravel the mysteries of the universe. As engineers, we have a unique opportunity to contribute to this exciting field by developing innovative technologies and instruments that will continue to push the boundaries of human understanding. Whether it's exploring distant galaxies or searching for signs of life beyond Earth, astronomical engineering is an essential part of our quest to understand the vast expanse of space that surrounds us.\" response_metadata={'model': 'llama3', 'created_at': '2024-05-24T07:09:58.761649702Z', 'message': {'role': 'assistant', 'content': ''}, 'done': True, 'total_duration': 39600895415, 'load_duration': 32952626622, 'prompt_eval_count': 26, 'prompt_eval_duration': 80607000, 'eval_count': 633, 'eval_duration': 6562222000} id='run-de1f957d-697a-4313-8338-b8d98066acfc-0'\n"
     ]
    }
   ],
   "source": [
    "prompt = ChatPromptTemplate.from_template(\"Write a 500 word article omn the {topic} from the perspective of a {profession}.\")\n",
    "#chain = prompt | llm | StrOutputParser()\n",
    "chain = prompt | llm\n",
    "print(chain.invoke({\"topic\": \"astronomy\", \"profession\": \"engineer\"}))"
   ]
  },
  {
   "cell_type": "code",
   "execution_count": 12,
   "metadata": {},
   "outputs": [
    {
     "name": "stdout",
     "output_type": "stream",
     "text": [
      "input_variables=['profession', 'topic'] messages=[HumanMessagePromptTemplate(prompt=PromptTemplate(input_variables=['profession', 'topic'], template='Write a 500 word article omn the {topic} from the perspective of a {profession}.'))]\n"
     ]
    }
   ],
   "source": [
    "print(prompt)"
   ]
  },
  {
   "cell_type": "code",
   "execution_count": 7,
   "metadata": {},
   "outputs": [
    {
     "name": "stdout",
     "output_type": "stream",
     "text": [
      "As an engineer, I have always been fascinated by the wonders of the universe and the incredible feats of engineering that go into understanding it. Astronomy is not just about gazing up at the stars; it's about applying scientific principles to unravel the mysteries of the cosmos.\n",
      "\n",
      "One of the most impressive aspects of astronomy is the sheer scale of the projects involved. Take, for example, the construction of a telescope like the Mauna Kea Observatory in Hawaii. This behemoth of a telescope stands over 13,000 feet above sea level and has a primary mirror spanning 8.2 meters in diameter. To put that into perspective, it's roughly the size of a small swimming pool! The engineering required to design and build such a massive structure is staggering.\n",
      "\n",
      "But it's not just about building big; astronomy also requires precision and attention to detail. Take, for instance, the process of designing and launching a spacecraft like NASA's Kepler mission. This tiny probe was tasked with monitoring the brightness of over 100,000 stars in search of exoplanets. To achieve this, engineers had to develop sophisticated software and algorithms to analyze the data and identify patterns that might indicate the presence of an orbiting planet.\n",
      "\n",
      "Another area where astronomy intersects with engineering is in the field of astrophysics. Here, scientists use complex mathematical models to simulate the behavior of stars, galaxies, and even the universe itself. This requires a deep understanding of topics like relativity, quantum mechanics, and thermodynamics – all areas that are familiar territory for engineers.\n",
      "\n",
      "One of the most exciting applications of engineering in astronomy is in the field of exoplanet hunting. With the discovery of thousands of exoplanets to date, scientists are now working on developing new technologies to study these distant worlds up close. This includes the development of advanced telescopes and spectrographs that can analyze the light reflected off an exoplanet's surface.\n",
      "\n",
      "For example, the James Webb Space Telescope (JWST) is a forthcoming space-based observatory that will be capable of studying the atmospheres of exoplanets in unprecedented detail. To achieve this, engineers had to develop a sophisticated cryogenic cooling system that can maintain temperatures as low as -240°C (-400°F). This allows JWST to detect the faint signals from distant planets and study their composition.\n",
      "\n",
      "Astronomy also has practical applications for engineering. For instance, the development of GPS technology relies heavily on our understanding of celestial mechanics. By tracking the positions of stars and planets, engineers can ensure that GPS signals remain accurate and reliable.\n",
      "\n",
      "In conclusion, astronomy is not just a field of scientific inquiry; it's also an incredible showcase of engineering ingenuity. From building massive telescopes to developing sophisticated software for exoplanet hunting, astronomers rely on the same principles of design, analysis, and problem-solving that engineers use every day. As we continue to push the boundaries of what we know about the universe, I have no doubt that the intersection of astronomy and engineering will lead to even more exciting discoveries and innovations in the years to come."
     ]
    }
   ],
   "source": [
    "for chunk in chain.stream({\"topic\": \"astronomy\", \"profession\": \"engineer\"}):\n",
    "    print(chunk, end=\"\", flush=True)"
   ]
  },
  {
   "cell_type": "code",
   "execution_count": 8,
   "metadata": {},
   "outputs": [
    {
     "name": "stdout",
     "output_type": "stream",
     "text": [
      "content='' additional_kwargs={'function_call': {'name': 'get_current_weather', 'arguments': '{\"location\": \"Sydney, Australia\", \"unit\": \"celsius\"}'}} id='run-419101c9-847b-451e-9cb3-58303ea37225-0'\n"
     ]
    }
   ],
   "source": [
    "from langchain_experimental.llms.ollama_functions import OllamaFunctions\n",
    "\n",
    "llm = OllamaFunctions(base_url=\"http://192.168.86.2:11434\", model=\"llama3\", format=\"json\")\n",
    "\n",
    "model = llm.bind_tools(\n",
    "    tools=[\n",
    "        {\n",
    "            \"name\": \"get_current_weather\",\n",
    "            \"description\": \"get the current weather in a given location\",\n",
    "            \"parameters\": {\n",
    "                \"type\": \"object\", \n",
    "                \"properties\": {\n",
    "                    \"location\": {\n",
    "                        \"type\": \"string\",\n",
    "                        \"description\": \"The city and state, e.g. San Francisco, CA\",\n",
    "                    },\n",
    "                    \"unit\": {\n",
    "                        \"type\": \"string\",\n",
    "                        \"enum\": [\"celsius\", \"fahrenheit\"],\n",
    "                        \"default\": \"celsius\",\n",
    "                    },\n",
    "                },\n",
    "                \"required\": [\"location\"],\n",
    "            },\n",
    "        }\n",
    "    ],\n",
    "    function_call={\"name\": \"get_current_weather\"},\n",
    ")\n",
    "\n",
    "\n",
    "response = model.invoke(\"What is the weather in Sydney?\")\n",
    "\n",
    "print(response)"
   ]
  },
  {
   "cell_type": "code",
   "execution_count": 5,
   "metadata": {},
   "outputs": [
    {
     "name": "stdout",
     "output_type": "stream",
     "text": [
      "content='' additional_kwargs={'function_call': {'name': 'get_current_weather', 'arguments': ''}} id='run-4cd9eaf2-2955-46f8-a9f8-69a0252b4fc8-0'\n"
     ]
    }
   ],
   "source": [
    "response = model.invoke(\"Tell me a joke about bananas.\")\n",
    "\n",
    "print(response)"
   ]
  },
  {
   "cell_type": "markdown",
   "metadata": {},
   "source": [
    "Now lets implement an agent. See if we can get it running on ollama."
   ]
  },
  {
   "cell_type": "code",
   "execution_count": 9,
   "metadata": {},
   "outputs": [
    {
     "name": "stdout",
     "output_type": "stream",
     "text": [
      "[{'url': 'https://www.britannica.com/place/France', 'content': 'Even though its imperialist stage was driven by the impulse to civilize that world according to French standards (la mission civilisatrice), the French still note approvingly the words of writer Gustave Flaubert:\\nI am no more modern than I am ancient, no more French than Chinese; and the idea of la patrie, the fatherland—that is, the obligation to live on a bit of earth coloured red or blue on a map, and to detest the other bits coloured green or black—has always seemed to me narrow, restricted, and ferociously stupid.\\n Among France’s other major cities are Lyon, located along an ancient Rhône valley trade route linking the North Sea and the Mediterranean; Marseille, a multiethnic port on the Mediterranean founded as an entrepôt for Greek and Carthaginian traders in the 6th century bce; Nantes, an industrial centre and deepwater harbour along the Atlantic coast; and Bordeaux, located in southwestern France along the Garonne River. A majestic city known as the ville lumière, or “city of light,” Paris has often been remade, most famously in the mid-19th century under the command of Georges-Eugène, Baron Haussman, who was committed to Napoleon III’s vision of a modern city free of the choleric swamps and congested alleys of old, with broad avenues and a regular plan. Metropolitan Paris has now extended far beyond its ancient suburbs into the countryside, however, and nearly every French town and village now numbers a retiree or two driven from the city by the high cost of living, so that, in a sense, Paris has come to embrace the desert and the desert Paris.\\n France has also been influential in government and civil affairs, giving the world important democratic ideals in the age of the Enlightenment and the French Revolution and inspiring the growth of reformist and even revolutionary movements for generations.'}, {'url': 'https://www.coe.int/en/web/interculturalcities/paris', 'content': 'Paris is the capital and most populous city of France. Situated on the Seine River, in the north of the country, it is in the centre of the Île-de-France\\xa0...'}, {'url': 'https://en.wikipedia.org/wiki/Paris', 'content': 'The city\\'s population loss came to a temporary halt at the beginning of the 21st century; the population increased from 2,125,246 in 1999 to 2,240,621 in 2012, before declining again slightly in 2017, 2018, and again in 2021.[159][160]\\nParis is the core of a built-up area that extends well beyond its limits: commonly referred to as the agglomération Parisienne, and statistically as a unité urbaine (a measure of urban area), the Paris agglomeration\\'s population of 10,785,092 in 2017[161] made it the largest urban area in the European Union.[162] City-influenced commuter activity reaches well beyond even this in a statistical aire d\\'attraction de Paris (\"functional area\", a statistical method comparable to a metropolitan area[163]), that had a population of 13,024,518 in 2017,[164] 19.6% of the population of France,[165] and the largest metropolitan area in the Eurozone.[162]\\nAccording to Eurostat, the EU statistical agency, in 2012 the Commune of Paris was the most densely populated city in the European Union, with 21,616 people per square kilometre within the city limits (the NUTS-3 statistical area), ahead of Inner London West, which had 10,374 people per square kilometre. Parisian and Italian musicians who played the accordion adopted the style and established themselves in Auvergnat bars,[232] anParis became a major centre for jazz and still attracts jazz musicians from all around the world to its clubs and cafés.[233]\\nParis is the spiritual home of gypsy jazz in particular, and many of the Parisian jazzmen who developed in the first half of the 20th century began by playing Bal-musette in the city.[232] Django Reinhardt rose to fame in Paris, having moved to the 18th arrondissement in a caravan as a young boy, and performed with violinist Stéphane Grappelli and their Quintette du Hot Club de France in the 1930s and 1940s.[234]\\nImmediately after the War the Saint-Germain-des-Pres quarter and the nearby Saint-Michel quarter became home to many small jazz clubs, including the Caveau des Lorientais, the Club Saint-Germain, the Rose Rouge, the Vieux-Colombier, and the most famous, Le Tabou. After seizing power in Paris on 28\\xa0March, a revolutionary government known as the Paris Commune held power for two months, before being harshly suppressed by the French army during the \"Bloody Week\" at the end of May 1871.[59]\\nIn the late 19th century, Paris hosted two major international expositions: the 1889 Universal Exposition, which featured the new Eiffel Tower, was held to mark the centennial of the French Revolution; and the 1900 Universal Exposition gave Paris the Pont Alexandre III, the Grand Palais, the Petit Palais and the first Paris Métro line.[60] Paris became the laboratory of Naturalism (Émile Zola) and Symbolism (Charles Baudelaire and Paul Verlaine), and of Impressionism in art (Courbet, Manet, Monet, Renoir).[61]\\n20th and 21st centuries[edit]\\nBy 1901, the population of Paris had grown to about 2,715,000.[62] In 2012 and 2013, it was estimated that there were almost 500,000 Muslims in the City of Paris, 1.5 million Muslims in the Île-de-France region and 4 to 5 million Muslims in France.[176][177]\\nThe Jewish population of the Paris Region was estimated in 2014 to be 282,000, the largest concentration of Jews in the world outside of Israel and the United States.[178]\\nEconomy[edit]\\nThe economy of the City of Paris is based largely on services and commerce; of the 390,480 enterprises in the city, 80.6 percent are engaged in commerce, transportation, and diverse services, 6.5 percent in construction, and just 3.8 percent in industry.[182] The Paris region\\'s most intense economic activity through the central Hauts-de-Seine department and suburban La Défense business district places Paris\\'s economic centre to the west of the city, in a triangle between the Opéra Garnier, La Défense and the Val de Seine.[194] While the Paris economy is dominated by services, and employment in manufacturing sector has declined sharply, the region remains an important manufacturing centre, particularly for aeronautics, automobiles, and \"eco\" industries.[194]\\nIn the 2017 worldwide cost of living survey by the Economist Intelligence Unit, based on a survey made in September 2016, Paris ranked as the seventh most expensive city in the world, and the second most expensive in Europe, after Zurich.[195]'}, {'url': 'https://en.wikipedia.org/wiki/France', 'content': 'The Programme for International Student Assessment, coordinated by the OECD, ranked France\\'s education as near the OECD average in 2018.[303][304] France was one of the PISA-participating countries where school children perceived some of the lowest levels of support and feedback from their teachers.[304] Schoolchildren in France reported greater concern about the disciplinary climate and behaviour in classrooms compared to other OECD countries.[304]\\nHigher education is divided between public universities and the prestigious and selective Grandes écoles, such as Sciences Po Paris for Political studies, HEC Paris for Economics, Polytechnique, the École des hautes études en sciences sociales for Social studies and the École nationale supérieure des mines de Paris that produce high-profile engineers, or the École nationale d\\'administration for careers in the Grands Corps of the state. Since 1900, France has hosted the Olympics on 4 further occasions: the 1924 Summer Olympics, again in Paris[397] and three Winter Games (1924 in Chamonix, 1968 in Grenoble and 1992 in Albertville).[397] Similar to the Olympics, France introduced Olympics for the deaf people (Deaflympics) in 1924 with the idea of a French deaf car mechanic, Eugène Rubens-Alcais who paved the way to organise the inaugural edition of the Summer Deaflympics in Paris.[400]\\nBoth the national football team and the national rugby union team are nicknamed \"Les Bleus\" in reference to the team\\'s shirt colour as well as the national French tricolour flag. Descartes was the first Western philosopher since ancient times to attempt to build a philosophical system from the ground up rather than building on the work of predecessors.[334][335] France in the 18th Century saw major philipshocial contributions from Voltaire who came to embody the Enlightenment and Jean-Jacques Rousseau whose work highly influenced the French Revolution.[336][337] French philosophers made major contributions to the field in the 20th century including the existentialist works of Simone de Beauvoir, Camus, and Sartre.[338] Other influential contributions during this time include the moral and political works of Simone Weil, contributions to structuralism including from Claude Lévi-Strauss and the post-structuralist works by Michel Foucault.[339][340]\\nMusic\\nFrance has a long and varied musical history. From World War II until 2017, French politics was dominated by two politically opposed groupings: one left-wing, the French Section of the Workers\\' International, which was succeeded by the Socialist Party (in 1969); and the other right-wing, the Gaullist Party, whose name changed over time to the Rally of the French People (1947), the Union of Democrats for the Republic (1958), the Rally for the Republic (1976), the Union for a Popular Movement (2007) and The Republicans (since 2015). By 1875, the French conquest of Algeria was complete, with approximately 825,000 Algerians killed from famine, disease, and violence.[67]\\nFrance had colonial possessions, in various forms since the beginning of the 17th century, but in the 19th and 20th centuries its global overseas colonial empire extended greatly and became the second-largest in the world behind the British Empire.[15] Including metropolitan France, the total area of land under French sovereignty reached almost 13\\xa0million square kilometres in the 1920s and 1930s, 8.6% of the world\\'s land.'}]\n"
     ]
    }
   ],
   "source": [
    "from langchain_community.tools.tavily_search import TavilySearchResults\n",
    "\n",
    "search = TavilySearchResults()\n",
    "response = search(\"What is the capital of France?\")\n",
    "\n",
    "print(response)"
   ]
  },
  {
   "cell_type": "code",
   "execution_count": 1,
   "metadata": {},
   "outputs": [],
   "source": [
    "from langchain_community.document_loaders import WebBaseLoader\n",
    "from langchain_community.vectorstores import FAISS\n",
    "from langchain_openai import OpenAIEmbeddings\n",
    "from langchain_text_splitters import RecursiveCharacterTextSplitter\n",
    "\n",
    "loader = WebBaseLoader(\"https://docs.smith.langchain.com/overview\")\n",
    "docs = loader.load()\n",
    "documents = RecursiveCharacterTextSplitter(\n",
    "    chunk_size=1000, chunk_overlap=200\n",
    ").split_documents(docs)\n",
    "vector = FAISS.from_documents(documents, OpenAIEmbeddings())\n",
    "retriever = vector.as_retriever()"
   ]
  },
  {
   "cell_type": "code",
   "execution_count": 3,
   "metadata": {},
   "outputs": [
    {
     "data": {
      "text/plain": [
       "Document(page_content='description=\"A sample dataset in LangSmith.\")client.create_examples(    inputs=[        {\"postfix\": \"to LangSmith\"},        {\"postfix\": \"to Evaluations in LangSmith\"},    ],    outputs=[        {\"output\": \"Welcome to LangSmith\"},        {\"output\": \"Welcome to Evaluations in LangSmith\"},    ],    dataset_id=dataset.id,)# Define your evaluatordef exact_match(run, example):    return {\"score\": run.outputs[\"output\"] == example.outputs[\"output\"]}experiment_results = evaluate(    lambda input: \"Welcome \" + input[\\'postfix\\'], # Your AI system goes here    data=dataset_name, # The data to predict and grade over    evaluators=[exact_match], # The evaluators to score the results    experiment_prefix=\"sample-experiment\", # The name of the experiment    metadata={      \"version\": \"1.0.0\",      \"revision_id\": \"beta\"    },)import { Client, Run, Example } from \"langsmith\";import { evaluate } from \"langsmith/evaluation\";import { EvaluationResult } from \"langsmith/evaluation\";const client = new', metadata={'source': 'https://docs.smith.langchain.com/overview', 'title': 'Get started with LangSmith | 🦜️🛠️ LangSmith', 'description': 'LangSmith is a platform for building production-grade LLM applications. It allows you to closely monitor and evaluate your application, so you can ship quickly and with confidence. Use of LangChain is not necessary - LangSmith works on its own!', 'language': 'en'})"
      ]
     },
     "execution_count": 3,
     "metadata": {},
     "output_type": "execute_result"
    }
   ],
   "source": [
    "retriever.invoke(\"how to upload a dataset\")[0]"
   ]
  },
  {
   "cell_type": "code",
   "execution_count": 5,
   "metadata": {},
   "outputs": [],
   "source": [
    "from langchain.tools.retriever import create_retriever_tool\n",
    "retriever_tool = create_retriever_tool(\n",
    "    retriever,\n",
    "    \"langsmith_search\",\n",
    "    \"Search for information about LangSmith. For any questions about LangSmith, you must use this tool!\",\n",
    ")"
   ]
  },
  {
   "cell_type": "code",
   "execution_count": 2,
   "metadata": {},
   "outputs": [
    {
     "name": "stdout",
     "output_type": "stream",
     "text": [
      "Faiss version: 1.8.0\n"
     ]
    }
   ],
   "source": [
    "import faiss\n",
    "\n",
    "print(\"Faiss version:\", faiss.__version__)\n"
   ]
  },
  {
   "cell_type": "code",
   "execution_count": 8,
   "metadata": {},
   "outputs": [],
   "source": [
    "tools = [search, retriever_tool]"
   ]
  },
  {
   "cell_type": "markdown",
   "metadata": {},
   "source": [
    "Now we need to create a llama3 specific prompt. This will be a learning experience."
   ]
  },
  {
   "cell_type": "code",
   "execution_count": 13,
   "metadata": {},
   "outputs": [
    {
     "name": "stdout",
     "output_type": "stream",
     "text": [
      "input_variables=['agent_scratchpad', 'chat_history', 'input'] messages=[HumanMessagePromptTemplate(prompt=PromptTemplate(input_variables=['agent_scratchpad', 'chat_history', 'input'], template='<|begin_of_text|><|start_header_id|>system<|end_header_id|> \\nYou are a helpful assistant. <|eot_id|>\\n<|start_header_id|>placeholder<|end_header_id|> \\n{chat_history}  <|eot_id|>\\n<|start_header_id|>human<|end_header_id|> \\n{input}  <|eot_id|>\\n<|start_header_id|>placeholder<|end_header_id|> \\n{agent_scratchpad}  <|eot_id|>\\n'))]\n"
     ]
    }
   ],
   "source": [
    "prompt = \"\"\"<|begin_of_text|><|start_header_id|>system<|end_header_id|> \n",
    "You are a helpful assistant. <|eot_id|>\n",
    "<|start_header_id|>placeholder<|end_header_id|> \n",
    "{chat_history}  <|eot_id|>\n",
    "<|start_header_id|>human<|end_header_id|> \n",
    "{input}  <|eot_id|>\n",
    "<|start_header_id|>placeholder<|end_header_id|> \n",
    "{agent_scratchpad}  <|eot_id|>\n",
    "\"\"\"\n",
    "\n",
    "agent_prompt = ChatPromptTemplate.from_template(prompt)\n",
    "\n",
    "print(agent_prompt)"
   ]
  }
 ],
 "metadata": {
  "kernelspec": {
   "display_name": "phi3",
   "language": "python",
   "name": "python3"
  },
  "language_info": {
   "codemirror_mode": {
    "name": "ipython",
    "version": 3
   },
   "file_extension": ".py",
   "mimetype": "text/x-python",
   "name": "python",
   "nbconvert_exporter": "python",
   "pygments_lexer": "ipython3",
   "version": "3.12.3"
  }
 },
 "nbformat": 4,
 "nbformat_minor": 2
}
